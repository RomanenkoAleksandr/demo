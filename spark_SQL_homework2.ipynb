{
  "nbformat": 4,
  "nbformat_minor": 0,
  "metadata": {
    "colab": {
      "provenance": [],
      "mount_file_id": "1SEBkv8WR6DEKbOPIGDt0jUYBK3TeBP_M",
      "authorship_tag": "ABX9TyMyQPioW2cgPDlLcYV7DEOa",
      "include_colab_link": true
    },
    "kernelspec": {
      "name": "python3",
      "display_name": "Python 3"
    },
    "language_info": {
      "name": "python"
    }
  },
  "cells": [
    {
      "cell_type": "markdown",
      "metadata": {
        "id": "view-in-github",
        "colab_type": "text"
      },
      "source": [
        "<a href=\"https://colab.research.google.com/github/RomanenkoAleksandr/demo/blob/main/spark_SQL_homework2.ipynb\" target=\"_parent\"><img src=\"https://colab.research.google.com/assets/colab-badge.svg\" alt=\"Open In Colab\"/></a>"
      ]
    },
    {
      "cell_type": "code",
      "execution_count": 4,
      "metadata": {
        "id": "zyvsj5d4GeWq"
      },
      "outputs": [],
      "source": [
        "pip install --quiet pyspark"
      ]
    },
    {
      "cell_type": "code",
      "source": [
        "from pyspark.sql import SparkSession\n",
        "\n",
        "spark = SparkSession.builder.appName(\"Practice\").getOrCreate()"
      ],
      "metadata": {
        "id": "mvtqe9X5HCrF"
      },
      "execution_count": 5,
      "outputs": []
    },
    {
      "cell_type": "code",
      "source": [
        "from pyspark import SparkFiles\n",
        "\n",
        "\n",
        "df = spark.read.option('inferSchema', 'true').option('header', 'true').csv('/content/drive/MyDrive/Colab Notebooks/covid-data.csv')"
      ],
      "metadata": {
        "id": "7vRcjsEhHjtw"
      },
      "execution_count": 6,
      "outputs": []
    },
    {
      "cell_type": "markdown",
      "source": [
        "Задание 1"
      ],
      "metadata": {
        "id": "Msf2vW8JLIJQ"
      }
    },
    {
      "cell_type": "code",
      "source": [
        "from pyspark.sql import functions as F"
      ],
      "metadata": {
        "id": "CXJWu1RLLzLK"
      },
      "execution_count": 7,
      "outputs": []
    },
    {
      "cell_type": "code",
      "source": [
        "df.select('iso_code', 'location', (F.col('total_cases') / F.col('population') * 100 ).alias('percentage_of_cases')).where(F.col('date').endswith('03-31')).sort(F.col('percentage_of_cases').desc()).show(15)"
      ],
      "metadata": {
        "colab": {
          "base_uri": "https://localhost:8080/"
        },
        "id": "pmwi0furI90Y",
        "outputId": "15951a10-4606-4f6c-800c-d23262933826"
      },
      "execution_count": 8,
      "outputs": [
        {
          "output_type": "stream",
          "name": "stdout",
          "text": [
            "+--------+-------------+-------------------+\n",
            "|iso_code|     location|percentage_of_cases|\n",
            "+--------+-------------+-------------------+\n",
            "|     AND|      Andorra| 15.543907331909661|\n",
            "|     MNE|   Montenegro| 14.523725364693293|\n",
            "|     CZE|      Czechia| 14.308848404077997|\n",
            "|     SMR|   San Marino| 13.937179562732041|\n",
            "|     SVN|     Slovenia| 10.370805779121204|\n",
            "|     LUX|   Luxembourg|  9.847342390123583|\n",
            "|     ISR|       Israel|  9.625106044786802|\n",
            "|     USA|United States|  9.203010995860707|\n",
            "|     SRB|       Serbia|  8.826328557933492|\n",
            "|     BHR|      Bahrain|  8.488860079114566|\n",
            "|     PAN|       Panama|  8.228739065460761|\n",
            "|     PRT|     Portugal|  8.058699735120369|\n",
            "|     EST|      Estonia|  8.022681579659551|\n",
            "|     SWE|       Sweden|  7.969744347858805|\n",
            "|     LTU|    Lithuania|  7.938864728274825|\n",
            "+--------+-------------+-------------------+\n",
            "only showing top 15 rows\n",
            "\n"
          ]
        }
      ]
    },
    {
      "cell_type": "markdown",
      "source": [
        "Задание 2"
      ],
      "metadata": {
        "id": "hqo4PajWQ2rH"
      }
    },
    {
      "cell_type": "code",
      "source": [
        "from pyspark.sql import Window"
      ],
      "metadata": {
        "id": "VXDNtjLGQ5Gz"
      },
      "execution_count": 9,
      "outputs": []
    },
    {
      "cell_type": "code",
      "source": [
        "window = Window.partitionBy('location')\n",
        "\n",
        "df_filtered = df.select('location', 'date', 'new_cases').where((F.col('date') >= '2021-03-25') & (F.col('date') <= '2021-03-31') & (~F.col('iso_code').startswith('OWID')))\n",
        "\n",
        "df_filtered.select('location', 'date', F.max('new_cases').over(window).alias('max_new_cases')).where(F.col('new_cases') == F.col('max_new_cases')).sort(F.col('max_new_cases').desc()).show(10)"
      ],
      "metadata": {
        "colab": {
          "base_uri": "https://localhost:8080/"
        },
        "id": "TNwqVqL96ahL",
        "outputId": "eb757d8a-469c-4365-937e-5d0df4ab93dd"
      },
      "execution_count": 12,
      "outputs": [
        {
          "output_type": "stream",
          "name": "stdout",
          "text": [
            "+-------------+----------+-------------+\n",
            "|     location|      date|max_new_cases|\n",
            "+-------------+----------+-------------+\n",
            "|       Brazil|2021-03-25|     100158.0|\n",
            "|United States|2021-03-26|      77321.0|\n",
            "|        India|2021-03-31|      72330.0|\n",
            "|       France|2021-03-31|      59054.0|\n",
            "|       Turkey|2021-03-31|      39302.0|\n",
            "|       Poland|2021-03-26|      35145.0|\n",
            "|      Germany|2021-03-31|      25014.0|\n",
            "|        Italy|2021-03-26|      24076.0|\n",
            "|         Peru|2021-03-25|      19206.0|\n",
            "|      Ukraine|2021-03-26|      18226.0|\n",
            "+-------------+----------+-------------+\n",
            "only showing top 10 rows\n",
            "\n"
          ]
        }
      ]
    },
    {
      "cell_type": "markdown",
      "source": [
        "Задание 3"
      ],
      "metadata": {
        "id": "hO3EAVQXGHw6"
      }
    },
    {
      "cell_type": "code",
      "source": [
        "window = Window.partitionBy('location').orderBy('date')\n",
        "\n",
        "df_filtered = df.select('*').where((F.col('iso_code') == 'RUS') & (F.col('date') >= '2021-03-25') & (F.col('date') <= '2021-03-31'))\n",
        "\n",
        "df_filtered.select('date', F.lag('new_cases').over(window).alias('previous_day_new_cases'), 'new_cases', (F.col('new_cases') - F.col('previous_day_new_cases')).alias('delta')).show()"
      ],
      "metadata": {
        "colab": {
          "base_uri": "https://localhost:8080/"
        },
        "id": "1jb0pTX3E1zn",
        "outputId": "585def23-4522-4270-a499-48541dd034b8"
      },
      "execution_count": 25,
      "outputs": [
        {
          "output_type": "stream",
          "name": "stdout",
          "text": [
            "+----------+----------------------+---------+------+\n",
            "|      date|previous_day_new_cases|new_cases| delta|\n",
            "+----------+----------------------+---------+------+\n",
            "|2021-03-25|                  NULL|   9128.0|  NULL|\n",
            "|2021-03-26|                9128.0|   9073.0| -55.0|\n",
            "|2021-03-27|                9073.0|   8783.0|-290.0|\n",
            "|2021-03-28|                8783.0|   8979.0| 196.0|\n",
            "|2021-03-29|                8979.0|   8589.0|-390.0|\n",
            "|2021-03-30|                8589.0|   8162.0|-427.0|\n",
            "|2021-03-31|                8162.0|   8156.0|  -6.0|\n",
            "+----------+----------------------+---------+------+\n",
            "\n"
          ]
        }
      ]
    }
  ]
}